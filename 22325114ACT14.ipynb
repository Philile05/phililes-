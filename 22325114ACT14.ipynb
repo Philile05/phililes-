{
  "nbformat": 4,
  "nbformat_minor": 0,
  "metadata": {
    "colab": {
      "provenance": []
    },
    "kernelspec": {
      "name": "python3",
      "display_name": "Python 3"
    },
    "language_info": {
      "name": "python"
    }
  },
  "cells": [
    {
      "cell_type": "markdown",
      "source": [
        "Import Libraries"
      ],
      "metadata": {
        "id": "vDpZQgB26yqK"
      }
    },
    {
      "cell_type": "code",
      "source": [
        "import pandas as pd\n",
        "import numpy as np\n",
        "from sklearn.model_selection import train_test_split\n",
        "from sklearn.preprocessing import LabelEncoder\n",
        "from sklearn.linear_model import LogisticRegression\n",
        "from sklearn.ensemble import RandomForestClassifier\n",
        "from sklearn.metrics import classification_report, accuracy_score, confusion_matrix\n",
        "import seaborn as sns\n",
        "import matplotlib.pyplot as plt"
      ],
      "metadata": {
        "id": "UhdAORUYXlTj"
      },
      "execution_count": 19,
      "outputs": []
    },
    {
      "cell_type": "markdown",
      "source": [
        "load the Dataset"
      ],
      "metadata": {
        "id": "NwDgj3rOXsOg"
      }
    },
    {
      "cell_type": "code",
      "source": [
        "df = pd.read_csv(\"/content/drive/MyDrive/Dataset/activity14/WA_Fn-UseC_-Telco-Customer-Churn (1).csv\")  # Change path if needed\n",
        "print(\"STEP 2 - First 5 rows of original dataset:\")\n",
        "print(df.head(), \"\\n\")\n"
      ],
      "metadata": {
        "colab": {
          "base_uri": "https://localhost:8080/"
        },
        "id": "ATGyssJYX2-d",
        "outputId": "10b2fba1-7630-4311-e54e-ce5cc6b1c7d7"
      },
      "execution_count": 20,
      "outputs": [
        {
          "output_type": "stream",
          "name": "stdout",
          "text": [
            "STEP 2 - First 5 rows of original dataset:\n",
            "   customerID  gender  SeniorCitizen Partner Dependents  tenure PhoneService  \\\n",
            "0  7590-VHVEG  Female              0     Yes         No       1           No   \n",
            "1  5575-GNVDE    Male              0      No         No      34          Yes   \n",
            "2  3668-QPYBK    Male              0      No         No       2          Yes   \n",
            "3  7795-CFOCW    Male              0      No         No      45           No   \n",
            "4  9237-HQITU  Female              0      No         No       2          Yes   \n",
            "\n",
            "      MultipleLines InternetService OnlineSecurity  ... DeviceProtection  \\\n",
            "0  No phone service             DSL             No  ...               No   \n",
            "1                No             DSL            Yes  ...              Yes   \n",
            "2                No             DSL            Yes  ...               No   \n",
            "3  No phone service             DSL            Yes  ...              Yes   \n",
            "4                No     Fiber optic             No  ...               No   \n",
            "\n",
            "  TechSupport StreamingTV StreamingMovies        Contract PaperlessBilling  \\\n",
            "0          No          No              No  Month-to-month              Yes   \n",
            "1          No          No              No        One year               No   \n",
            "2          No          No              No  Month-to-month              Yes   \n",
            "3         Yes          No              No        One year               No   \n",
            "4          No          No              No  Month-to-month              Yes   \n",
            "\n",
            "               PaymentMethod MonthlyCharges  TotalCharges Churn  \n",
            "0           Electronic check          29.85         29.85    No  \n",
            "1               Mailed check          56.95        1889.5    No  \n",
            "2               Mailed check          53.85        108.15   Yes  \n",
            "3  Bank transfer (automatic)          42.30       1840.75    No  \n",
            "4           Electronic check          70.70        151.65   Yes  \n",
            "\n",
            "[5 rows x 21 columns] \n",
            "\n"
          ]
        }
      ]
    },
    {
      "cell_type": "markdown",
      "source": [
        "Split into 4 different tables"
      ],
      "metadata": {
        "id": "M0H4tjzCYRc8"
      }
    },
    {
      "cell_type": "code",
      "source": [
        "customers = df[['customerID', 'gender', 'SeniorCitizen', 'Partner', 'Dependents', 'tenure']]\n",
        "services = df[['customerID', 'PhoneService', 'MultipleLines', 'InternetService',\n",
        "               'OnlineSecurity', 'OnlineBackup', 'DeviceProtection',\n",
        "               'TechSupport', 'StreamingTV', 'StreamingMovies']]\n",
        "contracts = df[['customerID', 'Contract', 'PaperlessBilling', 'PaymentMethod',\n",
        "                'MonthlyCharges', 'TotalCharges']]\n",
        "churn = df[['customerID', 'Churn']]\n",
        "\n",
        "print(\"STEP 3 - Customers table columns:\", customers.columns.tolist())\n",
        "print(\"STEP 3 - Services table columns:\", services.columns.tolist())\n",
        "print(\"STEP 3 - Contracts table columns:\", contracts.columns.tolist())\n",
        "print(\"STEP 3 - Churn table columns:\", churn.columns.tolist(), \"\\n\")\n"
      ],
      "metadata": {
        "colab": {
          "base_uri": "https://localhost:8080/"
        },
        "id": "PM752iDuYXT4",
        "outputId": "4783afed-beda-40b7-f291-8d7e86b2d201"
      },
      "execution_count": 21,
      "outputs": [
        {
          "output_type": "stream",
          "name": "stdout",
          "text": [
            "STEP 3 - Customers table columns: ['customerID', 'gender', 'SeniorCitizen', 'Partner', 'Dependents', 'tenure']\n",
            "STEP 3 - Services table columns: ['customerID', 'PhoneService', 'MultipleLines', 'InternetService', 'OnlineSecurity', 'OnlineBackup', 'DeviceProtection', 'TechSupport', 'StreamingTV', 'StreamingMovies']\n",
            "STEP 3 - Contracts table columns: ['customerID', 'Contract', 'PaperlessBilling', 'PaymentMethod', 'MonthlyCharges', 'TotalCharges']\n",
            "STEP 3 - Churn table columns: ['customerID', 'Churn'] \n",
            "\n"
          ]
        }
      ]
    },
    {
      "cell_type": "markdown",
      "source": [
        "Merge all the tables"
      ],
      "metadata": {
        "id": "aq3KVn8YZcA6"
      }
    },
    {
      "cell_type": "code",
      "source": [
        "merged_df = customers.merge(services, on='customerID')\\\n",
        "                     .merge(contracts, on='customerID')\\\n",
        "                     .merge(churn, on='customerID')\n",
        "print(\"STEP 4 - Merged dataset preview:\")\n",
        "print(merged_df.head(), \"\\n\")"
      ],
      "metadata": {
        "colab": {
          "base_uri": "https://localhost:8080/"
        },
        "id": "aaDVKACXZgeC",
        "outputId": "86fa63e7-0b78-4972-c851-11cb5362f136"
      },
      "execution_count": 22,
      "outputs": [
        {
          "output_type": "stream",
          "name": "stdout",
          "text": [
            "STEP 4 - Merged dataset preview:\n",
            "   customerID  gender  SeniorCitizen Partner Dependents  tenure PhoneService  \\\n",
            "0  7590-VHVEG  Female              0     Yes         No       1           No   \n",
            "1  5575-GNVDE    Male              0      No         No      34          Yes   \n",
            "2  3668-QPYBK    Male              0      No         No       2          Yes   \n",
            "3  7795-CFOCW    Male              0      No         No      45           No   \n",
            "4  9237-HQITU  Female              0      No         No       2          Yes   \n",
            "\n",
            "      MultipleLines InternetService OnlineSecurity  ... DeviceProtection  \\\n",
            "0  No phone service             DSL             No  ...               No   \n",
            "1                No             DSL            Yes  ...              Yes   \n",
            "2                No             DSL            Yes  ...               No   \n",
            "3  No phone service             DSL            Yes  ...              Yes   \n",
            "4                No     Fiber optic             No  ...               No   \n",
            "\n",
            "  TechSupport StreamingTV StreamingMovies        Contract PaperlessBilling  \\\n",
            "0          No          No              No  Month-to-month              Yes   \n",
            "1          No          No              No        One year               No   \n",
            "2          No          No              No  Month-to-month              Yes   \n",
            "3         Yes          No              No        One year               No   \n",
            "4          No          No              No  Month-to-month              Yes   \n",
            "\n",
            "               PaymentMethod MonthlyCharges  TotalCharges Churn  \n",
            "0           Electronic check          29.85         29.85    No  \n",
            "1               Mailed check          56.95        1889.5    No  \n",
            "2               Mailed check          53.85        108.15   Yes  \n",
            "3  Bank transfer (automatic)          42.30       1840.75    No  \n",
            "4           Electronic check          70.70        151.65   Yes  \n",
            "\n",
            "[5 rows x 21 columns] \n",
            "\n"
          ]
        }
      ]
    },
    {
      "cell_type": "markdown",
      "source": [
        "clean and encode dataset"
      ],
      "metadata": {
        "id": "f9yCyHboaIxi"
      }
    },
    {
      "cell_type": "code",
      "source": [
        "merged_df.drop('gender', axis=1, inplace=True)  # Remove gender\n",
        "merged_df['TotalCharges'] = pd.to_numeric(merged_df['TotalCharges'], errors='coerce')\n",
        "merged_df.dropna(inplace=True)  # Remove rows with missing values\n",
        "\n",
        "# Encode categorical columns\n",
        "le = LabelEncoder()\n",
        "for col in merged_df.columns:\n",
        "    if merged_df[col].dtype == 'object':\n",
        "        merged_df[col] = le.fit_transform(merged_df[col])\n",
        "\n",
        "print(\"STEP 5 - Cleaned & Encoded dataset preview:\")\n",
        "print(merged_df.head(), \"\\n\")"
      ],
      "metadata": {
        "colab": {
          "base_uri": "https://localhost:8080/"
        },
        "id": "6u6Vj7Ytbb_G",
        "outputId": "bd26b6f0-e5c1-4887-cd76-4c227fb5dfd1"
      },
      "execution_count": 23,
      "outputs": [
        {
          "output_type": "stream",
          "name": "stdout",
          "text": [
            "STEP 5 - Cleaned & Encoded dataset preview:\n",
            "   customerID  SeniorCitizen  Partner  Dependents  tenure  PhoneService  \\\n",
            "0        5365              0        1           0       1             0   \n",
            "1        3953              0        0           0      34             1   \n",
            "2        2558              0        0           0       2             1   \n",
            "3        5524              0        0           0      45             0   \n",
            "4        6500              0        0           0       2             1   \n",
            "\n",
            "   MultipleLines  InternetService  OnlineSecurity  OnlineBackup  \\\n",
            "0              1                0               0             2   \n",
            "1              0                0               2             0   \n",
            "2              0                0               2             2   \n",
            "3              1                0               2             0   \n",
            "4              0                1               0             0   \n",
            "\n",
            "   DeviceProtection  TechSupport  StreamingTV  StreamingMovies  Contract  \\\n",
            "0                 0            0            0                0         0   \n",
            "1                 2            0            0                0         1   \n",
            "2                 0            0            0                0         0   \n",
            "3                 2            2            0                0         1   \n",
            "4                 0            0            0                0         0   \n",
            "\n",
            "   PaperlessBilling  PaymentMethod  MonthlyCharges  TotalCharges  Churn  \n",
            "0                 1              2           29.85         29.85      0  \n",
            "1                 0              3           56.95       1889.50      0  \n",
            "2                 1              3           53.85        108.15      1  \n",
            "3                 0              0           42.30       1840.75      0  \n",
            "4                 1              2           70.70        151.65      1   \n",
            "\n"
          ]
        }
      ]
    },
    {
      "cell_type": "markdown",
      "source": [
        "Split into Features and Target"
      ],
      "metadata": {
        "id": "58ZsjmfOd3hU"
      }
    },
    {
      "cell_type": "code",
      "source": [
        "X = merged_df.drop('Churn', axis=1)\n",
        "y = merged_df['Churn']\n",
        "print(f\"STEP 6 - Features shape: {X.shape}, Target shape: {y.shape}\\n\")\n"
      ],
      "metadata": {
        "colab": {
          "base_uri": "https://localhost:8080/"
        },
        "id": "A6fLmQwzd44R",
        "outputId": "31f5b4ab-ae68-441f-cf4a-eaca9175a84f"
      },
      "execution_count": 24,
      "outputs": [
        {
          "output_type": "stream",
          "name": "stdout",
          "text": [
            "STEP 6 - Features shape: (7032, 19), Target shape: (7032,)\n",
            "\n"
          ]
        }
      ]
    },
    {
      "cell_type": "markdown",
      "source": [
        "Train/Test Split"
      ],
      "metadata": {
        "id": "k12MQymfd_T_"
      }
    },
    {
      "cell_type": "code",
      "source": [
        "X_train, X_test, y_train, y_test = train_test_split(X, y, test_size=0.2, random_state=42)\n",
        "print(f\"STEP 7 - X_train: {X_train.shape}, X_test: {X_test.shape}\")\n",
        "print(f\"STEP 7 - y_train: {y_train.shape}, y_test: {y_test.shape}\\n\")\n"
      ],
      "metadata": {
        "colab": {
          "base_uri": "https://localhost:8080/"
        },
        "id": "S3aMOGq3eEti",
        "outputId": "905c92f0-373e-4bfb-b674-7af81721ef8d"
      },
      "execution_count": 25,
      "outputs": [
        {
          "output_type": "stream",
          "name": "stdout",
          "text": [
            "STEP 7 - X_train: (5625, 19), X_test: (1407, 19)\n",
            "STEP 7 - y_train: (5625,), y_test: (1407,)\n",
            "\n"
          ]
        }
      ]
    },
    {
      "cell_type": "markdown",
      "source": [
        "Logistic Regression Model"
      ],
      "metadata": {
        "id": "y8bHKPlueK1e"
      }
    },
    {
      "cell_type": "code",
      "source": [
        "rf_model = RandomForestClassifier(n_estimators=100, random_state=42)\n",
        "rf_model.fit(X_train, y_train)\n",
        "y_pred_rf = rf_model.predict(X_test)\n",
        "\n",
        "print(\"STEP 9 - Random Forest Results\")\n",
        "print(\"Accuracy:\", accuracy_score(y_test, y_pred_rf))\n",
        "print(\"Confusion Matrix:\\n\", confusion_matrix(y_test, y_pred_rf))\n",
        "print(\"Classification Report:\\n\", classification_report(y_test, y_pred_rf), \"\\n\")\n",
        "\n"
      ],
      "metadata": {
        "colab": {
          "base_uri": "https://localhost:8080/"
        },
        "id": "aL7huGlgeROi",
        "outputId": "6dda9a5c-a4c3-40ba-86cf-be1a1431c97d"
      },
      "execution_count": 26,
      "outputs": [
        {
          "output_type": "stream",
          "name": "stdout",
          "text": [
            "STEP 9 - Random Forest Results\n",
            "Accuracy: 0.7917555081734187\n",
            "Confusion Matrix:\n",
            " [[938  95]\n",
            " [198 176]]\n",
            "Classification Report:\n",
            "               precision    recall  f1-score   support\n",
            "\n",
            "           0       0.83      0.91      0.86      1033\n",
            "           1       0.65      0.47      0.55       374\n",
            "\n",
            "    accuracy                           0.79      1407\n",
            "   macro avg       0.74      0.69      0.71      1407\n",
            "weighted avg       0.78      0.79      0.78      1407\n",
            " \n",
            "\n"
          ]
        }
      ]
    },
    {
      "cell_type": "markdown",
      "source": [
        "Heatmaps Confusion Matrices"
      ],
      "metadata": {
        "id": "a7XbdmxDfcpY"
      }
    },
    {
      "cell_type": "code",
      "source": [
        "plt.figure(figsize=(12, 5))\n",
        "\n",
        "plt.subplot(1, 2, 1)\n",
        "sns.heatmap(confusion_matrix(y_test, y_pred_lr), annot=True, fmt='d', cmap='Blues')\n",
        "plt.title('Logistic Regression Confusion Matrix')\n",
        "\n",
        "plt.subplot(1, 2, 2)\n",
        "sns.heatmap(confusion_matrix(y_test, y_pred_rf), annot=True, fmt='d', cmap='Greens')\n",
        "plt.title('Random Forest Confusion Matrix')\n",
        "\n",
        "plt.tight_layout()\n",
        "plt.show()"
      ],
      "metadata": {
        "colab": {
          "base_uri": "https://localhost:8080/",
          "height": 413
        },
        "id": "Cz0bpnSNfARf",
        "outputId": "3071a760-6ad9-4cba-e208-f1d2f032f369"
      },
      "execution_count": 27,
      "outputs": [
        {
          "output_type": "display_data",
          "data": {
            "text/plain": [
              "<Figure size 1200x500 with 4 Axes>"
            ],
            "image/png": "[encoded data removed]"
          },
          "metadata": {}
        }
      ]
    }
  ]
}